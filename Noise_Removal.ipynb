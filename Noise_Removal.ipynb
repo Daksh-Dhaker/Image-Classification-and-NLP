{
  "nbformat": 4,
  "nbformat_minor": 0,
  "metadata": {
    "colab": {
      "provenance": [],
      "toc_visible": true,
      "authorship_tag": "ABX9TyNl7qXhsfVWgUUKlKNbqMfO",
      "include_colab_link": true
    },
    "kernelspec": {
      "name": "python3",
      "display_name": "Python 3"
    },
    "language_info": {
      "name": "python"
    }
  },
  "cells": [
    {
      "cell_type": "markdown",
      "metadata": {
        "id": "view-in-github",
        "colab_type": "text"
      },
      "source": [
        "<a href=\"https://colab.research.google.com/github/Daksh-Dhaker/Neural-Networks/blob/main/Noise_Removal.ipynb\" target=\"_parent\"><img src=\"https://colab.research.google.com/assets/colab-badge.svg\" alt=\"Open In Colab\"/></a>"
      ]
    },
    {
      "cell_type": "code",
      "execution_count": 1,
      "metadata": {
        "id": "VyqqZjLvOtD6"
      },
      "outputs": [],
      "source": [
        "import pandas as pd\n",
        "import numpy as np\n",
        "import matplotlib.pyplot as plt"
      ]
    },
    {
      "cell_type": "code",
      "source": [
        "from tensorflow.keras.datasets import mnist"
      ],
      "metadata": {
        "id": "lxOWb1EmQBaI"
      },
      "execution_count": 2,
      "outputs": []
    },
    {
      "cell_type": "code",
      "source": [
        "(X_train,y_train),(X_test,y_test) = mnist.load_data()"
      ],
      "metadata": {
        "colab": {
          "base_uri": "https://localhost:8080/"
        },
        "id": "airXYP84QJPF",
        "outputId": "5ec39156-d053-4800-bf7f-657efd3ba55d"
      },
      "execution_count": 3,
      "outputs": [
        {
          "output_type": "stream",
          "name": "stdout",
          "text": [
            "Downloading data from https://storage.googleapis.com/tensorflow/tf-keras-datasets/mnist.npz\n",
            "11490434/11490434 [==============================] - 0s 0us/step\n"
          ]
        }
      ]
    },
    {
      "cell_type": "code",
      "source": [
        "plt.imshow(X_train[0])"
      ],
      "metadata": {
        "colab": {
          "base_uri": "https://localhost:8080/",
          "height": 447
        },
        "id": "dQj0wR78Qd3o",
        "outputId": "ae5eee37-a252-4ea4-e0c9-2c8d665fe6ad"
      },
      "execution_count": 4,
      "outputs": [
        {
          "output_type": "execute_result",
          "data": {
            "text/plain": [
              "<matplotlib.image.AxesImage at 0x780223b42cb0>"
            ]
          },
          "metadata": {},
          "execution_count": 4
        },
        {
          "output_type": "display_data",
          "data": {
            "text/plain": [
              "<Figure size 640x480 with 1 Axes>"
            ],
            "image/png": "[encoded data removed]"
          },
          "metadata": {}
        }
      ]
    },
    {
      "cell_type": "code",
      "source": [
        "X_train = X_train/255\n",
        "X_test = X_test/255"
      ],
      "metadata": {
        "id": "K21ojDJrQlIB"
      },
      "execution_count": 5,
      "outputs": []
    },
    {
      "cell_type": "code",
      "source": [
        "from tensorflow.keras.models import Sequential"
      ],
      "metadata": {
        "id": "QnMnhM3BQqnw"
      },
      "execution_count": 6,
      "outputs": []
    },
    {
      "cell_type": "code",
      "source": [
        "from tensorflow.keras.layers import Dense,Flatten,Reshape\n",
        "from tensorflow.keras.optimizers import SGD"
      ],
      "metadata": {
        "id": "4FByhQM_QutH"
      },
      "execution_count": 7,
      "outputs": []
    },
    {
      "cell_type": "code",
      "source": [
        "encoder = Sequential()\n",
        "\n",
        "encoder.add(Flatten(input_shape=[28,28]))\n",
        "encoder.add(Dense(400,activation ='relu'))\n",
        "encoder.add(Dense(200,activation ='relu'))\n",
        "encoder.add(Dense(100,activation ='relu'))\n",
        "encoder.add(Dense(50,activation ='relu'))\n",
        "encoder.add(Dense(25,activation ='relu'))"
      ],
      "metadata": {
        "id": "9rwjf0WlQ8Oe"
      },
      "execution_count": 8,
      "outputs": []
    },
    {
      "cell_type": "code",
      "source": [
        "decoder = Sequential()\n",
        "\n",
        "decoder.add(Dense(50,activation ='relu',input_shape = [25]))\n",
        "decoder.add(Dense(100,activation ='relu'))\n",
        "decoder.add(Dense(200,activation ='relu'))\n",
        "decoder.add(Dense(400,activation ='relu'))\n",
        "decoder.add(Dense(784,activation ='sigmoid'))\n",
        "decoder.add(Reshape([28,28]))"
      ],
      "metadata": {
        "id": "JS6s1XwmRq4G"
      },
      "execution_count": 9,
      "outputs": []
    },
    {
      "cell_type": "code",
      "source": [
        "autoencoder = Sequential([encoder,decoder])"
      ],
      "metadata": {
        "id": "jCwuV7eKST47"
      },
      "execution_count": 10,
      "outputs": []
    },
    {
      "cell_type": "code",
      "source": [
        "autoencoder.compile(loss ='binary_crossentropy',optimizer = SGD(learning_rate = 1.5),metrics = ['accuracy'])"
      ],
      "metadata": {
        "id": "zeFRL0NgSYG2"
      },
      "execution_count": 11,
      "outputs": []
    },
    {
      "cell_type": "code",
      "source": [
        "autoencoder.fit(X_train,X_train,epochs =5,validation_data = [X_test,X_test])"
      ],
      "metadata": {
        "colab": {
          "base_uri": "https://localhost:8080/"
        },
        "id": "473g6ACzStJC",
        "outputId": "d632bc6a-e475-4cb7-bc24-44c8ef7a7076"
      },
      "execution_count": 12,
      "outputs": [
        {
          "output_type": "stream",
          "name": "stdout",
          "text": [
            "Epoch 1/5\n",
            "1875/1875 [==============================] - 21s 10ms/step - loss: 0.2524 - accuracy: 0.0904 - val_loss: 0.2079 - val_accuracy: 0.1413\n",
            "Epoch 2/5\n",
            "1875/1875 [==============================] - 21s 11ms/step - loss: 0.1811 - accuracy: 0.1680 - val_loss: 0.1597 - val_accuracy: 0.1901\n",
            "Epoch 3/5\n",
            "1875/1875 [==============================] - 21s 11ms/step - loss: 0.1551 - accuracy: 0.2010 - val_loss: 0.1472 - val_accuracy: 0.2097\n",
            "Epoch 4/5\n",
            "1875/1875 [==============================] - 21s 11ms/step - loss: 0.1457 - accuracy: 0.2157 - val_loss: 0.1415 - val_accuracy: 0.2168\n",
            "Epoch 5/5\n",
            "1875/1875 [==============================] - 20s 10ms/step - loss: 0.1406 - accuracy: 0.2243 - val_loss: 0.1385 - val_accuracy: 0.2268\n"
          ]
        },
        {
          "output_type": "execute_result",
          "data": {
            "text/plain": [
              "<keras.src.callbacks.History at 0x7802208bcaf0>"
            ]
          },
          "metadata": {},
          "execution_count": 12
        }
      ]
    },
    {
      "cell_type": "code",
      "source": [
        "passed_images = autoencoder.predict(X_test[:10])"
      ],
      "metadata": {
        "colab": {
          "base_uri": "https://localhost:8080/"
        },
        "id": "2b8ZHPntTA3W",
        "outputId": "33576076-0ed7-438a-c1b8-c4024e511dbe"
      },
      "execution_count": 13,
      "outputs": [
        {
          "output_type": "stream",
          "name": "stdout",
          "text": [
            "1/1 [==============================] - 0s 148ms/step\n"
          ]
        }
      ]
    },
    {
      "cell_type": "code",
      "source": [
        "n = 4\n",
        "print(\"Original Image\")\n",
        "plt.imshow(X_test[n])\n",
        "plt.show()\n",
        "print(\"predicted image\")\n",
        "plt.imshow(passed_images[n])"
      ],
      "metadata": {
        "colab": {
          "base_uri": "https://localhost:8080/",
          "height": 895
        },
        "id": "5XvcWy0CTzF_",
        "outputId": "e129ece0-3fc5-4ade-e79b-feefa32fa2c1"
      },
      "execution_count": 14,
      "outputs": [
        {
          "output_type": "stream",
          "name": "stdout",
          "text": [
            "Original Image\n"
          ]
        },
        {
          "output_type": "display_data",
          "data": {
            "text/plain": [
              "<Figure size 640x480 with 1 Axes>"
            ],
            "image/png": "[encoded data removed]"
          },
          "metadata": {}
        },
        {
          "output_type": "stream",
          "name": "stdout",
          "text": [
            "predicted image\n"
          ]
        },
        {
          "output_type": "execute_result",
          "data": {
            "text/plain": [
              "<matplotlib.image.AxesImage at 0x7801f5f00220>"
            ]
          },
          "metadata": {},
          "execution_count": 14
        },
        {
          "output_type": "display_data",
          "data": {
            "text/plain": [
              "<Figure size 640x480 with 1 Axes>"
            ],
            "image/png": "[encoded data removed]"
          },
          "metadata": {}
        }
      ]
    },
    {
      "cell_type": "code",
      "source": [
        "# adding noise\n",
        "from tensorflow.keras.layers import GaussianNoise\n",
        "sample = GaussianNoise(0.2)"
      ],
      "metadata": {
        "id": "dLhqIsPCUOFc"
      },
      "execution_count": 15,
      "outputs": []
    },
    {
      "cell_type": "code",
      "source": [
        "noisey = sample(X_test[:10],training = True)"
      ],
      "metadata": {
        "id": "VR6q9wh9xGNJ"
      },
      "execution_count": 16,
      "outputs": []
    },
    {
      "cell_type": "code",
      "source": [
        "n =0\n",
        "print(\"original\")\n",
        "plt.imshow(X_test[n])\n",
        "plt.show()\n",
        "print(\"Noise version\")\n",
        "plt.imshow(noisey[n])\n",
        "plt.show()"
      ],
      "metadata": {
        "colab": {
          "base_uri": "https://localhost:8080/",
          "height": 878
        },
        "id": "7aieLA8YxNbh",
        "outputId": "55593ed0-5ab2-49ad-a836-4f1f7588be94"
      },
      "execution_count": 17,
      "outputs": [
        {
          "output_type": "stream",
          "name": "stdout",
          "text": [
            "original\n"
          ]
        },
        {
          "output_type": "display_data",
          "data": {
            "text/plain": [
              "<Figure size 640x480 with 1 Axes>"
            ],
            "image/png": "[encoded data removed]"
          },
          "metadata": {}
        },
        {
          "output_type": "stream",
          "name": "stdout",
          "text": [
            "Noise version\n"
          ]
        },
        {
          "output_type": "display_data",
          "data": {
            "text/plain": [
              "<Figure size 640x480 with 1 Axes>"
            ],
            "image/png": "[encoded data removed]"
          },
          "metadata": {}
        }
      ]
    },
    {
      "cell_type": "code",
      "source": [
        "import tensorflow as tf"
      ],
      "metadata": {
        "id": "KNw9ILeUxhgc"
      },
      "execution_count": 18,
      "outputs": []
    },
    {
      "cell_type": "code",
      "source": [
        "encoder = Sequential()\n",
        "tf.random.set_seed(101)\n",
        "np.random.seed(101)\n",
        "encoder.add(Flatten(input_shape=[28,28]))\n",
        "\n",
        "encoder.add(GaussianNoise(0.2))\n",
        "\n",
        "encoder.add(Dense(400,activation ='relu'))\n",
        "encoder.add(Dense(200,activation ='relu'))\n",
        "encoder.add(Dense(100,activation ='relu'))\n",
        "encoder.add(Dense(50,activation ='relu'))\n",
        "encoder.add(Dense(25,activation ='relu'))"
      ],
      "metadata": {
        "id": "XoD9Os6yxmw1"
      },
      "execution_count": 19,
      "outputs": []
    },
    {
      "cell_type": "code",
      "source": [
        "decoder = Sequential()\n",
        "\n",
        "decoder.add(Dense(50,activation ='relu',input_shape = [25]))\n",
        "decoder.add(Dense(100,activation ='relu'))\n",
        "decoder.add(Dense(200,activation ='relu'))\n",
        "decoder.add(Dense(400,activation ='relu'))\n",
        "decoder.add(Dense(784,activation ='sigmoid'))\n",
        "decoder.add(Reshape([28,28]))"
      ],
      "metadata": {
        "id": "gKpHaClBx_qL"
      },
      "execution_count": 20,
      "outputs": []
    },
    {
      "cell_type": "code",
      "source": [
        "noise_remover = Sequential([encoder,decoder])"
      ],
      "metadata": {
        "id": "4OhX-Sq4yDZV"
      },
      "execution_count": 21,
      "outputs": []
    },
    {
      "cell_type": "code",
      "source": [
        "noise_remover.compile(optimizer ='adam',loss ='binary_crossentropy',metrics =['accuracy'])"
      ],
      "metadata": {
        "id": "lP7s14dFyH9s"
      },
      "execution_count": 22,
      "outputs": []
    },
    {
      "cell_type": "code",
      "source": [
        "noise_remover.fit(X_train,X_train,epochs = 8)"
      ],
      "metadata": {
        "colab": {
          "base_uri": "https://localhost:8080/"
        },
        "id": "E2XXFycwySWz",
        "outputId": "cc34a0eb-4a18-43fd-9dbf-a96e3dd1481e"
      },
      "execution_count": 23,
      "outputs": [
        {
          "output_type": "stream",
          "name": "stdout",
          "text": [
            "Epoch 1/8\n",
            "1875/1875 [==============================] - 30s 15ms/step - loss: 0.1713 - accuracy: 0.1813\n",
            "Epoch 2/8\n",
            "1875/1875 [==============================] - 30s 16ms/step - loss: 0.1311 - accuracy: 0.2336\n",
            "Epoch 3/8\n",
            "1875/1875 [==============================] - 29s 15ms/step - loss: 0.1203 - accuracy: 0.2488\n",
            "Epoch 4/8\n",
            "1875/1875 [==============================] - 29s 15ms/step - loss: 0.1143 - accuracy: 0.2576\n",
            "Epoch 5/8\n",
            "1875/1875 [==============================] - 28s 15ms/step - loss: 0.1112 - accuracy: 0.2629\n",
            "Epoch 6/8\n",
            "1875/1875 [==============================] - 28s 15ms/step - loss: 0.1091 - accuracy: 0.2670\n",
            "Epoch 7/8\n",
            "1875/1875 [==============================] - 28s 15ms/step - loss: 0.1076 - accuracy: 0.2701\n",
            "Epoch 8/8\n",
            "1875/1875 [==============================] - 28s 15ms/step - loss: 0.1059 - accuracy: 0.2730\n"
          ]
        },
        {
          "output_type": "execute_result",
          "data": {
            "text/plain": [
              "<keras.src.callbacks.History at 0x7801f505a2f0>"
            ]
          },
          "metadata": {},
          "execution_count": 23
        }
      ]
    },
    {
      "cell_type": "code",
      "source": [
        "ten_noisey_images = sample(X_test[:10],training = True)"
      ],
      "metadata": {
        "id": "3N9yDimLyYp9"
      },
      "execution_count": 24,
      "outputs": []
    },
    {
      "cell_type": "code",
      "source": [
        "denoised_images = noise_remover(ten_noisey_images)"
      ],
      "metadata": {
        "id": "PM9Z42F6zk64"
      },
      "execution_count": 25,
      "outputs": []
    },
    {
      "cell_type": "code",
      "source": [
        "print(\"original\")\n",
        "plt.imshow(X_test[n])\n",
        "plt.show()\n",
        "print(\"Noise Added Image\")\n",
        "plt.imshow(ten_noisey_images[n])\n",
        "plt.show()\n",
        "print(\"after noise removal\")\n",
        "plt.imshow(denoised_images[n])\n",
        "plt.show()"
      ],
      "metadata": {
        "colab": {
          "base_uri": "https://localhost:8080/",
          "height": 1000
        },
        "id": "3PDLw5_Dzq1e",
        "outputId": "2ca21839-fdff-41fb-d61e-cbd599fb789d"
      },
      "execution_count": 28,
      "outputs": [
        {
          "output_type": "stream",
          "name": "stdout",
          "text": [
            "original\n"
          ]
        },
        {
          "output_type": "display_data",
          "data": {
            "text/plain": [
              "<Figure size 640x480 with 1 Axes>"
            ],
            "image/png": "[encoded data removed]"
          },
          "metadata": {}
        },
        {
          "output_type": "stream",
          "name": "stdout",
          "text": [
            "Noise Added Image\n"
          ]
        },
        {
          "output_type": "display_data",
          "data": {
            "text/plain": [
              "<Figure size 640x480 with 1 Axes>"
            ],
            "image/png": "[encoded data removed]"
          },
          "metadata": {}
        },
        {
          "output_type": "stream",
          "name": "stdout",
          "text": [
            "after noise removal\n"
          ]
        },
        {
          "output_type": "display_data",
          "data": {
            "text/plain": [
              "<Figure size 640x480 with 1 Axes>"
            ],
            "image/png": "[encoded data removed]"
          },
          "metadata": {}
        }
      ]
    },
    {
      "cell_type": "code",
      "source": [],
      "metadata": {
        "id": "6LOQ9kdz0EHp"
      },
      "execution_count": null,
      "outputs": []
    }
  ]
}