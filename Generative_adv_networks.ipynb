{
  "nbformat": 4,
  "nbformat_minor": 0,
  "metadata": {
    "colab": {
      "provenance": [],
      "toc_visible": true,
      "authorship_tag": "ABX9TyMjqT+fDZlJoT6JLuJbxswe",
      "include_colab_link": true
    },
    "kernelspec": {
      "name": "python3",
      "display_name": "Python 3"
    },
    "language_info": {
      "name": "python"
    }
  },
  "cells": [
    {
      "cell_type": "markdown",
      "metadata": {
        "id": "view-in-github",
        "colab_type": "text"
      },
      "source": [
        "<a href=\"https://colab.research.google.com/github/Daksh-Dhaker/Neural-Networks/blob/main/Generative_adv_networks.ipynb\" target=\"_parent\"><img src=\"https://colab.research.google.com/assets/colab-badge.svg\" alt=\"Open In Colab\"/></a>"
      ]
    },
    {
      "cell_type": "code",
      "execution_count": 1,
      "metadata": {
        "id": "xq2xLx7Z3A0p"
      },
      "outputs": [],
      "source": [
        "import pandas as pd\n",
        "import numpy as np\n",
        "import matplotlib.pyplot as plt"
      ]
    },
    {
      "cell_type": "code",
      "source": [
        "from tensorflow.keras.datasets import mnist"
      ],
      "metadata": {
        "id": "YjaQ8PrE3SVx"
      },
      "execution_count": 2,
      "outputs": []
    },
    {
      "cell_type": "code",
      "source": [
        "(X_train,y_train),(X_test,y_test) = mnist.load_data()"
      ],
      "metadata": {
        "colab": {
          "base_uri": "https://localhost:8080/"
        },
        "id": "kiQdAxoa3ZyO",
        "outputId": "8d583fe3-b933-4306-f50e-ad7e09fae6aa"
      },
      "execution_count": 3,
      "outputs": [
        {
          "output_type": "stream",
          "name": "stdout",
          "text": [
            "Downloading data from https://storage.googleapis.com/tensorflow/tf-keras-datasets/mnist.npz\n",
            "11490434/11490434 [==============================] - 0s 0us/step\n"
          ]
        }
      ]
    },
    {
      "cell_type": "code",
      "source": [
        "only_zeros = X_train[y_train ==0]"
      ],
      "metadata": {
        "id": "sVfrQMxA3ghD"
      },
      "execution_count": 5,
      "outputs": []
    },
    {
      "cell_type": "code",
      "source": [
        "only_zeros.shape"
      ],
      "metadata": {
        "colab": {
          "base_uri": "https://localhost:8080/"
        },
        "id": "4xZ66g6K3uHn",
        "outputId": "2a578128-0b96-4013-f8ef-1706a2ba3a24"
      },
      "execution_count": 6,
      "outputs": [
        {
          "output_type": "execute_result",
          "data": {
            "text/plain": [
              "(5923, 28, 28)"
            ]
          },
          "metadata": {},
          "execution_count": 6
        }
      ]
    },
    {
      "cell_type": "code",
      "source": [
        "# Discriminator\n",
        "from tensorflow.keras.models import Sequential\n",
        "from tensorflow.keras.layers import Dense,Reshape,Flatten\n",
        "import tensorflow as tf"
      ],
      "metadata": {
        "id": "y_B9uQt631PU"
      },
      "execution_count": 7,
      "outputs": []
    },
    {
      "cell_type": "code",
      "source": [
        "discriminator = Sequential()\n",
        "\n",
        "discriminator.add(Flatten(input_shape = [28,28]))\n",
        "discriminator.add(Dense(150,activation ='relu'))\n",
        "discriminator.add(Dense(100,activation ='relu'))\n",
        "\n",
        "discriminator.add(Dense(1,activation ='sigmoid'))\n",
        "\n",
        "discriminator.compile(loss = 'binary_crossentropy',optimizer ='adam')\n",
        "\n",
        "\n"
      ],
      "metadata": {
        "id": "xNgCBlRb4wdF"
      },
      "execution_count": 8,
      "outputs": []
    },
    {
      "cell_type": "code",
      "source": [
        "#Generator\n",
        "codings_size = 100\n",
        "generator = Sequential()\n",
        "\n",
        "generator.add(Dense(100,activation = 'relu',input_shape = [codings_size]))\n",
        "generator.add(Dense(150,activation = 'relu'))\n",
        "generator.add(Dense(784,activation = 'relu'))\n",
        "\n",
        "generator.add(Reshape([28,28]))\n"
      ],
      "metadata": {
        "id": "TjDimw8P5S-r"
      },
      "execution_count": 9,
      "outputs": []
    },
    {
      "cell_type": "code",
      "source": [
        "GAN = Sequential([generator,discriminator])"
      ],
      "metadata": {
        "id": "cMYGnZy76XFj"
      },
      "execution_count": 10,
      "outputs": []
    },
    {
      "cell_type": "code",
      "source": [
        "discriminator.trainable = False\n",
        "GAN.compile(loss ='binary_crossentropy',optimizer ='adam')"
      ],
      "metadata": {
        "id": "6KKJrMji6cNZ"
      },
      "execution_count": 11,
      "outputs": []
    },
    {
      "cell_type": "code",
      "source": [
        "batch_size = 32"
      ],
      "metadata": {
        "id": "vCwIFMW66lkd"
      },
      "execution_count": 12,
      "outputs": []
    },
    {
      "cell_type": "code",
      "source": [
        "my_data = only_zeros"
      ],
      "metadata": {
        "id": "NXv670Jd_kfT"
      },
      "execution_count": 13,
      "outputs": []
    },
    {
      "cell_type": "code",
      "source": [
        "dataset = tf.data.Dataset.from_tensor_slices(my_data).shuffle(buffer_size =1000)"
      ],
      "metadata": {
        "id": "1_5pg-f7AAHh"
      },
      "execution_count": 14,
      "outputs": []
    },
    {
      "cell_type": "code",
      "source": [
        "dataset = dataset.batch(batch_size,drop_remainder= True).prefetch(1)"
      ],
      "metadata": {
        "id": "B523mJupANoO"
      },
      "execution_count": 15,
      "outputs": []
    },
    {
      "cell_type": "code",
      "source": [
        "epochs =1"
      ],
      "metadata": {
        "id": "u2aXQRAzAi7g"
      },
      "execution_count": 16,
      "outputs": []
    },
    {
      "cell_type": "code",
      "source": [
        "generator, discriminator = GAN.layers\n",
        "\n",
        "for epoch in range(epochs):\n",
        "  i=0\n",
        "  for X_batch in dataset:\n",
        "    i = i+1\n",
        "    # Discriminator training phase\n",
        "    noise = tf.random.normal(shape = [batch_size,codings_size])\n",
        "\n",
        "    gen_images = generator(noise)\n",
        "\n",
        "    X_fake_vs_real = tf.concat([gen_images,tf.dtypes.cast(X_batch,tf.float32)],axis =0)\n",
        "\n",
        "    y1 = tf.constant([[0.0]]*batch_size + [[1.0]]*batch_size)\n",
        "\n",
        "    discriminator.trainable = True\n",
        "\n",
        "    discriminator.train_on_batch(X_fake_vs_real,y1)\n",
        "    # Train generator\n",
        "    noise = tf.random.normal(shape = [batch_size,codings_size])\n",
        "    y2 = tf.constant([[1.0]]*batch_size)\n",
        "\n",
        "    discriminator.trainable = False\n",
        "\n",
        "    GAN.train_on_batch(noise,y2)\n",
        "\n"
      ],
      "metadata": {
        "id": "8jYeI0ReAktm"
      },
      "execution_count": 17,
      "outputs": []
    },
    {
      "cell_type": "code",
      "source": [
        "noise = tf.random.normal(shape = [10,codings_size])"
      ],
      "metadata": {
        "id": "y_4_H1sEENUN"
      },
      "execution_count": 18,
      "outputs": []
    },
    {
      "cell_type": "code",
      "source": [
        "plt.imshow(noise)"
      ],
      "metadata": {
        "colab": {
          "base_uri": "https://localhost:8080/",
          "height": 130
        },
        "id": "X3IA7LFIEZVd",
        "outputId": "bf44ec90-bb13-4c2c-e10e-c33ffab548a9"
      },
      "execution_count": 19,
      "outputs": [
        {
          "output_type": "execute_result",
          "data": {
            "text/plain": [
              "<matplotlib.image.AxesImage at 0x798729d185b0>"
            ]
          },
          "metadata": {},
          "execution_count": 19
        },
        {
          "output_type": "display_data",
          "data": {
            "text/plain": [
              "<Figure size 640x480 with 1 Axes>"
            ],
            "image/png": "[encoded data removed]"
          },
          "metadata": {}
        }
      ]
    },
    {
      "cell_type": "code",
      "source": [
        "images = generator(noise)"
      ],
      "metadata": {
        "id": "aKwhpYVVEcGx"
      },
      "execution_count": 20,
      "outputs": []
    },
    {
      "cell_type": "code",
      "source": [
        "plt.imshow(images[9])"
      ],
      "metadata": {
        "colab": {
          "base_uri": "https://localhost:8080/",
          "height": 447
        },
        "id": "aixzCXuSEinb",
        "outputId": "628be4a9-f820-4706-eca2-0dad02f574e3"
      },
      "execution_count": 25,
      "outputs": [
        {
          "output_type": "execute_result",
          "data": {
            "text/plain": [
              "<matplotlib.image.AxesImage at 0x798729caf0d0>"
            ]
          },
          "metadata": {},
          "execution_count": 25
        },
        {
          "output_type": "display_data",
          "data": {
            "text/plain": [
              "<Figure size 640x480 with 1 Axes>"
            ],
            "image/png": "[encoded data removed]"
          },
          "metadata": {}
        }
      ]
    },
    {
      "cell_type": "code",
      "source": [],
      "metadata": {
        "id": "QUH7HGtnEnJf"
      },
      "execution_count": null,
      "outputs": []
    }
  ]
}